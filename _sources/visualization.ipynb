{
 "cells": [
  {
   "cell_type": "markdown",
   "id": "48329921",
   "metadata": {},
   "source": [
    "# Visualization tips\n",
    "\n",
    "## Brain-behavior correlations\n",
    "\n",
    "### Exploratory visualization\n",
    "\n",
    "You may be exploring correlations between brain statistics and behavioral/clinical correlates. With each brain statistic being calculated across many different ROIs, and with many behavioral correlates, you can generate scatterplots in _small multiples_ in order to see the range of correlations as efficiently as possible.\n",
    "\n",
    "````{tab} R\n",
    "[`ggpairs()`](https://ggobi.github.io/ggally/articles/ggpairs.html) from the `GGally` package will produce a flexible scatterplot matrix for exploratory visual data analysis. The plot is a `ggplot2` object under the hood, so you can modify `theme()` elements. However, `GGally` plot matrix objects don't behave exactly like single ggplots, so the syntax for modifying other plot aesthetics is slightly different.\n",
    "\n",
    "```{code-block} r\n",
    "library(dplyr)\n",
    "library(GGally)\n",
    "\n",
    "data %>% \n",
    "  # ggpairs() can drop columns from the scatterplot matrix, but not by name\n",
    "  select(-src_subject_id) %>% \n",
    "  ggpairs(lower = list(continuous = wrap(\"points\", size = 0.5, alpha = 0.1)))\n",
    "```\n",
    "```{figure} figs/r_ggally_pairs.png\n",
    "```\n",
    "````\n",
    "````{tab} Python\n",
    "[`pairplot()`](https://seaborn.pydata.org/generated/seaborn.pairplot.html) from the `seaborn` package will produce a flexible scatterplot matrix for exploratory visual data analysis. The plot is a `matplotlib` object under the hood, and can be manipulated as such.\n",
    "```{code-block} python\n",
    "import pandas as pd\n",
    "import seaborn as sns\n",
    "\n",
    "sns.pairplot(data)\n",
    "```\n",
    "```{figure} figs/py_seaborn_pairs.png\n",
    "```\n",
    "````\n",
    "\n",
    "### Visualization on the brain\n",
    "\n",
    "If you have already selected your behavioral/clinical correlate of interest, you may wish to show how it correlates with brain statistics across different ROIs. You can plot the brain-behavior correlation values as a statmap across the brain's surface, if you have mappings to from your ROIs to surface visualizations.\n",
    "\n",
    "````{tab} R\n",
    "```{code-block} r\n",
    "# R ggseg code to go here\n",
    "```\n",
    "````\n",
    "````{tab} Python\n",
    "```{code-block} python\n",
    "# Python nilearn code to go here\n",
    "```\n",
    "````"
   ]
  }
 ],
 "metadata": {
  "jupytext": {
   "formats": "md:myst",
   "text_representation": {
    "extension": ".md",
    "format_name": "myst"
   }
  },
  "kernelspec": {
   "display_name": "Python 3",
   "language": "python",
   "name": "python3"
  },
  "language_info": {
   "codemirror_mode": {
    "name": "ipython",
    "version": 3
   },
   "file_extension": ".py",
   "mimetype": "text/x-python",
   "name": "python",
   "nbconvert_exporter": "python",
   "pygments_lexer": "ipython3",
   "version": "3.10.5"
  },
  "source_map": [
   11
  ]
 },
 "nbformat": 4,
 "nbformat_minor": 5
}