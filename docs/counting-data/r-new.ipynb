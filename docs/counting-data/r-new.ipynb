{
 "cells": [
  {
   "cell_type": "markdown",
   "metadata": {},
   "source": [
    "## R\n",
    "\n",
    "### Counting how many participants have data for one variable, separate by timepoint\n",
    "\n",
    "The aptly named `count()` function in the `dplyr` package of the tidyverse can help you quickly tabulate how many \n",
    "participants have data for a particular variable.\n",
    "\n",
    "`count()` returns a summarized dataframe where the `n` column counts the number of rows with each value of `variable`. \n",
    "We can use this logic to count the number of non-missing vs. missing observations by first creating a column equal to \n",
    "`is.na(variable)`, and then counting its levels. This will count up all the rows that don't have NA (and thus have data) \n",
    "and all the rows that are missing data. Rows that don't have data will be `TRUE` (missing), while rows that have data \n",
    "will be `FALSE` (_not_ missing).\n",
    "\n",
    "Counting simultaneously by `timepoint` and by `is.na(variable)` will return a long-form contingency table with rows counting the number of non-missing and missing rows separately for each timepoint.\n",
    "\n",
    "This logic _assumes the data have one row per participant_ for a given timepoint.\n",
    "\n",
    "WARNING: The code below hasn't been tested!"
   ]
  },
  {
   "cell_type": "code",
   "execution_count": null,
   "metadata": {
    "vscode": {
     "languageId": "r"
    }
   },
   "outputs": [
    {
     "ename": "",
     "evalue": "",
     "output_type": "error",
     "traceback": [
      "\u001b[1;31mFailed to start the Kernel. \n",
      "\u001b[1;31mKernel R is not usable. Check the Jupyter output tab for more information. \n",
      "\u001b[1;31mView Jupyter <a href='command:jupyter.viewOutput'>log</a> for further details."
     ]
    }
   ],
   "source": [
    "library(dplyr)\n",
    "library(readr)\n",
    "\n",
    "data_path <- here::here(\"ignore\", \"abcd_v4\", \"abcd_mri01.txt\")\n",
    "data_colnames <- names(read_tsv(data_path, n_max = 0))\n",
    "data_descrips <- read_tsv(data_path, n_max = 1)\n",
    "data <- read_tsv(data_path, col_names = data_colnames, skip = 2) %>%\n",
    "    select(src_subject_id, eventname) %>%\n",
    "    # Hide the actual subject IDs for the purpose of this tutorial output\n",
    "    mutate(src_subject_id = forcats::fct_anon(factor(src_subject_id)))\n",
    "\n",
    "data %>%\n",
    "    count(src_subject_id) %>%\n",
    "    head()\n",
    "# data %>%\n",
    "#    mutate(variable_is_missing = is.na(variable)) %>%\n",
    "#    count(timepoint, variable_is_missing)"
   ]
  }
 ],
 "metadata": {
  "kernelspec": {
   "display_name": "R",
   "language": "R",
   "name": "ir"
  },
  "language_info": {
   "codemirror_mode": "r",
   "file_extension": ".r",
   "mimetype": "text/x-r-source",
   "name": "R",
   "pygments_lexer": "r",
   "version": "4.2.1"
  },
  "orig_nbformat": 4,
  "vscode": {
   "interpreter": {
    "hash": "31f2aee4e71d21fbe5cf8b01ff0e069b9275f58929596ceb00d14d90e3e16cd6"
   }
  }
 },
 "nbformat": 4,
 "nbformat_minor": 2
}
