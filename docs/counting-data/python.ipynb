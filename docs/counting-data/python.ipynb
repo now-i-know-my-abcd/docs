{
 "cells": [
  {
   "cell_type": "markdown",
   "metadata": {},
   "source": [
    "## Python\n",
    "\n",
    "### Counting how many participants have data for one variable, separate by timepoint\n",
    "\n",
    "The aptly named `value_counts()` function in the `pandas` package can help you quickly tabulate how many participants have data for a particular variable.\n",
    "\n",
    "`value_counts()` returns a Series (because it effectively has only one column of data) counting the number of rows with each value of `variable`. We can use this logic to count the number of non-missing vs. missing observations by first creating a column equal to `variable.isna()`, and then counting its levels. This will count up all the rows that don't have NA (and thus have data) and all the rows that are missing data. Rows that don't have data will be `True` (missing), while rows that have data will be `False` (_not_ missing).\n",
    "\n",
    "Counting simultaneously by `timepoint` and by `is.na(variable)` will return a long-form contingency table with rows counting the number of non-missing and missing rows separately for each timepoint. Note that `value_counts()` always counts the unique rows for _every column,_ and does not allow the user to specify which columns they want to count along. As such, we must subset the dataframe to have _only_ the column(s) we wish to count by before calling `value_counts()`.\n",
    "\n",
    "This logic _assumes the data have one row per participant_ for a given timepoint.\n",
    "\n",
    "WARNING: The code below hasn't been tested!"
   ]
  },
  {
   "cell_type": "code",
   "execution_count": null,
   "metadata": {},
   "outputs": [],
   "source": [
    "import pandas as pd\n",
    "\n",
    "# data['variable_is_missing'] = data['variable'].isna()\n",
    "# data[['timepoint', 'variable_is_missing']].value_counts()"
   ]
  }
 ],
 "metadata": {
  "kernelspec": {
   "display_name": "Python 3.10.8 (conda)",
   "language": "python",
   "name": "python3"
  },
  "language_info": {
   "name": "python",
   "version": "3.10.8"
  },
  "orig_nbformat": 4,
  "vscode": {
   "interpreter": {
    "hash": "71bea1429f3eaa79d6294ad35ffeb8c09eecfe3bf2872d4599305ad6ebcfa6ed"
   }
  }
 },
 "nbformat": 4,
 "nbformat_minor": 2
}
