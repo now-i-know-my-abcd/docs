{
 "cells": [
  {
   "cell_type": "markdown",
   "metadata": {},
   "source": [
    "# Visualization tips\n",
    "\n",
    "## Exploratory visualization\n",
    "\n",
    "### Brain-behavior correlations\n",
    "\n",
    "You may be exploring correlations between brain statistics and behavioral/clinical correlates. With each brain statistic being calculated across many different ROIs, and with many behavioral correlates, you can generate scatterplots in _small multiples_ in order to see the range of correlations.\n"
   ]
  }
 ],
 "metadata": {
  "kernelspec": {
   "display_name": "Python 3.10.5 (conda)",
   "language": "python",
   "name": "python3"
  },
  "language_info": {
   "name": "python",
   "version": "3.10.5"
  },
  "orig_nbformat": 4,
  "vscode": {
   "interpreter": {
    "hash": "ae30c93460d0cec2e9049c6334dd205b43c44dc0008d0da7056884243980a280"
   }
  }
 },
 "nbformat": 4,
 "nbformat_minor": 2
}
